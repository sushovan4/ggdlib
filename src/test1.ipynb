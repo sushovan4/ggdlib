{
 "cells": [
  {
   "cell_type": "code",
   "execution_count": 2,
   "metadata": {},
   "outputs": [],
   "source": [
    "import json\n",
    "from letter import gxl2Graph\n",
    "from EMD import GGMD\n",
    "from functools import cmp_to_key"
   ]
  },
  {
   "cell_type": "code",
   "execution_count": 3,
   "metadata": {},
   "outputs": [],
   "source": [
    "source_file = '../data/Letter/json/LOW/train.json'\n",
    "data = open(source_file)\n",
    "files = json.load(data)[\"GraphCollection\"][\"fingerprints\"][\"print\"]\n",
    "C_V = 4\n",
    "C_E = 1\n",
    "multiplier = 1000\n",
    "sort = True\n",
    "k = 20"
   ]
  },
  {
   "cell_type": "code",
   "execution_count": 4,
   "metadata": {},
   "outputs": [],
   "source": [
    "file = '../data/Letter/json/LOW/AP1_0038.json'\n",
    "data = open(file)\n",
    "g = gxl2Graph(json.load(data))"
   ]
  },
  {
   "cell_type": "code",
   "execution_count": 5,
   "metadata": {},
   "outputs": [],
   "source": [
    "def compare(file1, file2):\n",
    "    data = open('../data/Letter/json/LOW/' + file1[\"_file\"].split('.')[0] + '.json' )            \n",
    "    g1 = gxl2Graph(json.load(data), 'u')\n",
    "\n",
    "    data = open('../data/Letter/json/LOW/' + file2[\"_file\"].split('.')[0] + '.json' )            \n",
    "    g2 = gxl2Graph(json.load(data), 'v')\n",
    "\n",
    "    d1, d2 = GGMD(g1, g, C_V, C_E, multiplier, sort)[0], GGMD(g2, g, C_V, C_E, multiplier, sort)[0]\n",
    "        \n",
    "    if d1 < d2:\n",
    "        return -1\n",
    "    elif d1 > d2:\n",
    "        return 1    \n",
    "    else:\n",
    "        return 0"
   ]
  },
  {
   "cell_type": "code",
   "execution_count": 6,
   "metadata": {},
   "outputs": [
    {
     "data": {
      "text/plain": [
       "[{'_file': 'AP1_0038.gxl', '_class': 'A'},\n",
       " {'_file': 'LP1_0004.gxl', '_class': 'L'},\n",
       " {'_file': 'TP1_0013.gxl', '_class': 'T'},\n",
       " {'_file': 'AP1_0031.gxl', '_class': 'A'},\n",
       " {'_file': 'AP1_0006.gxl', '_class': 'A'},\n",
       " {'_file': 'AP1_0001.gxl', '_class': 'A'},\n",
       " {'_file': 'AP1_0032.gxl', '_class': 'A'},\n",
       " {'_file': 'AP1_0036.gxl', '_class': 'A'},\n",
       " {'_file': 'ZP1_0049.gxl', '_class': 'Z'},\n",
       " {'_file': 'AP1_0018.gxl', '_class': 'A'},\n",
       " {'_file': 'AP1_0023.gxl', '_class': 'A'},\n",
       " {'_file': 'AP1_0037.gxl', '_class': 'A'},\n",
       " {'_file': 'NP1_0007.gxl', '_class': 'N'},\n",
       " {'_file': 'AP1_0043.gxl', '_class': 'A'},\n",
       " {'_file': 'LP1_0008.gxl', '_class': 'L'},\n",
       " {'_file': 'AP1_0028.gxl', '_class': 'A'},\n",
       " {'_file': 'AP1_0027.gxl', '_class': 'A'},\n",
       " {'_file': 'AP1_0022.gxl', '_class': 'A'},\n",
       " {'_file': 'AP1_0015.gxl', '_class': 'A'},\n",
       " {'_file': 'AP1_0016.gxl', '_class': 'A'}]"
      ]
     },
     "execution_count": 6,
     "metadata": {},
     "output_type": "execute_result"
    }
   ],
   "source": [
    "sorted(files, key = cmp_to_key(compare))[0:k]"
   ]
  }
 ],
 "metadata": {
  "kernelspec": {
   "display_name": ".venv",
   "language": "python",
   "name": "python3"
  },
  "language_info": {
   "codemirror_mode": {
    "name": "ipython",
    "version": 3
   },
   "file_extension": ".py",
   "mimetype": "text/x-python",
   "name": "python",
   "nbconvert_exporter": "python",
   "pygments_lexer": "ipython3",
   "version": "3.10.6"
  },
  "orig_nbformat": 4
 },
 "nbformat": 4,
 "nbformat_minor": 2
}
