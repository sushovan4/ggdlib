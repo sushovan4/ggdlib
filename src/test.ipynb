{
 "cells": [
  {
   "cell_type": "code",
   "execution_count": 1,
   "metadata": {},
   "outputs": [],
   "source": [
    "from letter import gxl2Graph, Letter\n",
    "import json\n",
    "import networkx as nx\n",
    "import matplotlib.pyplot as plt\n",
    "from GMD import GMD\n",
    "import numpy as np\n",
    "from ggd import ggd\n",
    "from graph import Point, Graph"
   ]
  },
  {
   "cell_type": "code",
   "execution_count": 36,
   "metadata": {},
   "outputs": [
    {
     "data": {
      "text/plain": [
       "'A'"
      ]
     },
     "execution_count": 36,
     "metadata": {},
     "output_type": "execute_result"
    }
   ],
   "source": [
    "data = open('../data/Letter/json/LOW/AP1_0004.json')\n",
    "gxl = json.load(data)\n",
    "g = gxl2Graph(gxl)\n",
    "l = Letter(C_V = 3.5, C_E = 1, sort = True)\n",
    "l.classify(g)\n"
   ]
  },
  {
   "cell_type": "code",
   "execution_count": 37,
   "metadata": {},
   "outputs": [
    {
     "data": {
      "text/plain": [
       "array([[0., 0., 0., 0., 0., 1., 0.],\n",
       "       [0., 0., 0., 0., 0., 1., 1.],\n",
       "       [0., 0., 0., 0., 0., 0., 1.],\n",
       "       [0., 0., 0., 0., 0., 1., 0.],\n",
       "       [0., 0., 0., 0., 0., 0., 1.],\n",
       "       [1., 1., 0., 1., 0., 0., 1.],\n",
       "       [0., 1., 1., 0., 1., 1., 0.]])"
      ]
     },
     "execution_count": 37,
     "metadata": {},
     "output_type": "execute_result"
    }
   ],
   "source": [
    "g.adjacency()"
   ]
  },
  {
   "cell_type": "code",
   "execution_count": 38,
   "metadata": {},
   "outputs": [],
   "source": [
    "g1 = gxl2Graph(json.load(open('../data/Letter/json/LOW/AP1_0042.json')), 'u')\n",
    "g2 = gxl2Graph(json.load(open('../data/Letter/json/LOW/AP1_0042.json')), 'v')\n",
    "\n",
    "G1, G2 = g1.toNX(), g2.toNX()\n",
    "cost, flow, D = GMD(g1, g2, 2, 1.5, 1000)\n",
    "for u in flow.values():\n",
    "    for v, w in u.items():\n",
    "        u[v] = { 'weight': w } \n",
    "F = nx.DiGraph(flow)\n",
    "F.remove_node(\"eps1\")\n",
    "F.remove_node(\"eps2\")\n",
    "F.remove_edges_from([(n1, n2) for n1, n2, w in F.edges(data=\"weight\") if w == 0])"
   ]
  },
  {
   "cell_type": "code",
   "execution_count": 39,
   "metadata": {},
   "outputs": [],
   "source": [
    "c, f = ggd(g2, g1, 2, 1)\n",
    "H = nx.DiGraph(f)"
   ]
  },
  {
   "cell_type": "code",
   "execution_count": 40,
   "metadata": {},
   "outputs": [
    {
     "data": {
      "text/plain": [
       "(0.0, 0.0)"
      ]
     },
     "execution_count": 40,
     "metadata": {},
     "output_type": "execute_result"
    }
   ],
   "source": [
    "cost, c"
   ]
  },
  {
   "cell_type": "code",
   "execution_count": 41,
   "metadata": {},
   "outputs": [],
   "source": [
    "pos1 = nx.get_node_attributes(G1,  'coords')\n",
    "pos2 = nx.get_node_attributes(G2,  'coords')\n",
    "\n",
    "#pos1 = { u.label: u.coords for u in g1.vertices }\n",
    "#pos2 = { u.label: u.coords for u in g2.vertices }\n",
    "\n",
    "for k in pos2.keys():\n",
    "        pos2[k] = np.add( pos2[k], (0,0))\n",
    "pos = pos1 | pos2\n",
    "#pos = {\"eps1\": (0, 3), \"eps2\": (0, -3)}"
   ]
  },
  {
   "cell_type": "code",
   "execution_count": 42,
   "metadata": {},
   "outputs": [
    {
     "data": {
      "image/png": "[encoded data removed]",
      "text/plain": [
       "<Figure size 400x400 with 1 Axes>"
      ]
     },
     "metadata": {},
     "output_type": "display_data"
    }
   ],
   "source": [
    "fig = plt.figure(figsize=(4, 4))\n",
    "nx.draw(G1, pos1, edge_color = \"red\", node_color = \"red\", node_size = 20, with_labels = False)\n",
    "nx.draw(G2, pos2, edge_color = \"blue\", node_color = \"blue\", node_size = 20, with_labels = True)\n",
    "#nx.draw(F, pos, edge_color = \"gray\", width = 2, style = '--', node_size = 0, alpha = 0.5, connectionstyle=\"arc3, rad=0.2\", arrowsize = 17)\n",
    "\n",
    "#nx.draw(H, pos, edge_color = \"green\", width = 0.5, style = '--', node_size = 0, alpha = 0.5, connectionstyle=\"arc3, rad=0.2\", arrowsize = 17)\n",
    "# \n",
    "# weights = nx.get_edge_attributes(F, 'weight').values()\n",
    "# nx.draw(F, pos, **options, width=list(weights))"
   ]
  },
  {
   "cell_type": "code",
   "execution_count": 5,
   "metadata": {},
   "outputs": [],
   "source": [
    "p2 = Point((0,0), 'u_2')\n",
    "p3 = Point((1,0), 'u_3')\n",
    "p4 = Point((0,1), 'u_4')\n",
    "p1 = Point((1,1), 'u_1')\n",
    "\n",
    "q1 = Point((0,0), 'v_1')\n",
    "q4 = Point((1,0), 'v_4')\n",
    "q3 = Point((0,1), 'v_3')\n",
    "q2 = Point((1,1), 'v_2')"
   ]
  },
  {
   "cell_type": "code",
   "execution_count": 6,
   "metadata": {},
   "outputs": [],
   "source": [
    "g1 = Graph([p1, p2, p3, p4], [[p2, p3], [p1, p4]])"
   ]
  },
  {
   "cell_type": "code",
   "execution_count": null,
   "metadata": {},
   "outputs": [],
   "source": []
  },
  {
   "cell_type": "code",
   "execution_count": 7,
   "metadata": {},
   "outputs": [],
   "source": [
    "g2 = Graph([q1, q4, q3, q2], [[q1, q3], [q2, q4]])"
   ]
  },
  {
   "cell_type": "code",
   "execution_count": 8,
   "metadata": {},
   "outputs": [
    {
     "data": {
      "text/plain": [
       "(2.8284271247461903,\n",
       " [('u_1', 'v_1'), ('u_2', 'v_2'), ('u_3', 'v_4'), ('u_4', 'v_3')])"
      ]
     },
     "execution_count": 8,
     "metadata": {},
     "output_type": "execute_result"
    }
   ],
   "source": [
    "ggd(g1, g2, 1, 1)"
   ]
  },
  {
   "cell_type": "code",
   "execution_count": 9,
   "metadata": {},
   "outputs": [],
   "source": [
    "c,d, G = GMD(g1, g2, 1, 1, 1)"
   ]
  },
  {
   "cell_type": "code",
   "execution_count": 10,
   "metadata": {},
   "outputs": [
    {
     "data": {
      "text/plain": [
       "0.0"
      ]
     },
     "execution_count": 10,
     "metadata": {},
     "output_type": "execute_result"
    }
   ],
   "source": [
    "c"
   ]
  },
  {
   "cell_type": "code",
   "execution_count": 11,
   "metadata": {},
   "outputs": [
    {
     "data": {
      "text/plain": [
       "{'u_1': {'v_1': {'weight': 2},\n",
       "  'v_4': {'weight': 1},\n",
       "  'v_3': {'weight': 2},\n",
       "  'v_2': {'weight': 1},\n",
       "  'eps2': {'weight': 0}},\n",
       " 'u_2': {'v_1': {'weight': 0},\n",
       "  'v_4': {'weight': 2},\n",
       "  'v_3': {'weight': 2},\n",
       "  'v_2': {'weight': 2},\n",
       "  'eps2': {'weight': 0}},\n",
       " 'u_3': {'v_1': {'weight': 2},\n",
       "  'v_4': {'weight': 1},\n",
       "  'v_3': {'weight': 2},\n",
       "  'v_2': {'weight': 1},\n",
       "  'eps2': {'weight': 0}},\n",
       " 'u_4': {'v_1': {'weight': 2},\n",
       "  'v_4': {'weight': 2},\n",
       "  'v_3': {'weight': 0},\n",
       "  'v_2': {'weight': 2},\n",
       "  'eps2': {'weight': 0}},\n",
       " 'eps1': {'v_1': {'weight': 0},\n",
       "  'v_4': {'weight': 0},\n",
       "  'v_3': {'weight': 0},\n",
       "  'v_2': {'weight': 0},\n",
       "  'eps2': {'weight': 0}},\n",
       " 'v_1': {},\n",
       " 'v_4': {},\n",
       " 'v_3': {},\n",
       " 'v_2': {},\n",
       " 'eps2': {}}"
      ]
     },
     "execution_count": 11,
     "metadata": {},
     "output_type": "execute_result"
    }
   ],
   "source": [
    "nx.to_dict_of_dicts(G)"
   ]
  },
  {
   "cell_type": "code",
   "execution_count": null,
   "metadata": {},
   "outputs": [],
   "source": []
  }
 ],
 "metadata": {
  "kernelspec": {
   "display_name": ".venv",
   "language": "python",
   "name": "python3"
  },
  "language_info": {
   "codemirror_mode": {
    "name": "ipython",
    "version": 3
   },
   "file_extension": ".py",
   "mimetype": "text/x-python",
   "name": "python",
   "nbconvert_exporter": "python",
   "pygments_lexer": "ipython3",
   "version": "3.10.6"
  },
  "orig_nbformat": 4,
  "vscode": {
   "interpreter": {
    "hash": "7046c1012c32b6598d3de8fc9837e48958eb0ce04934b61994dab98503ac34ef"
   }
  }
 },
 "nbformat": 4,
 "nbformat_minor": 2
}
