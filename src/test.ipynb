{
 "cells": [
  {
   "cell_type": "code",
   "execution_count": 1,
   "metadata": {},
   "outputs": [],
   "source": [
    "from letter import gxl2Graph, Letter\n",
    "import json\n",
    "import networkx as nx\n",
    "import matplotlib.pyplot as plt\n",
    "from EMD import GGMD\n",
    "import numpy as np\n",
    "from ggd import ggd\n",
    "from graph import Point, Graph"
   ]
  },
  {
   "cell_type": "code",
   "execution_count": 4,
   "metadata": {},
   "outputs": [
    {
     "data": {
      "text/plain": [
       "'A'"
      ]
     },
     "execution_count": 4,
     "metadata": {},
     "output_type": "execute_result"
    }
   ],
   "source": [
    "data = open('../data/Letter/json/LOW/AP1_0040.json')\n",
    "gxl = json.load(data)\n",
    "g = gxl2Graph(gxl)\n",
    "l = Letter(C_V = 2, C_E = 1, sort = True)\n",
    "\n",
    "l.classify(g)\n",
    "#l.findModels(g)\n"
   ]
  },
  {
   "cell_type": "code",
   "execution_count": 5,
   "metadata": {},
   "outputs": [
    {
     "ename": "NameError",
     "evalue": "name 'g1' is not defined",
     "output_type": "error",
     "traceback": [
      "\u001b[0;31m---------------------------------------------------------------------------\u001b[0m",
      "\u001b[0;31mNameError\u001b[0m                                 Traceback (most recent call last)",
      "Cell \u001b[0;32mIn[5], line 2\u001b[0m\n\u001b[1;32m      1\u001b[0m \u001b[39m#G1, G2 = g1.toNX(), g2.toNX()\u001b[39;00m\n\u001b[0;32m----> 2\u001b[0m cost, flow, D \u001b[39m=\u001b[39m GGMD(g1, g2, \u001b[39m2\u001b[39m, \u001b[39m1.5\u001b[39m, \u001b[39m1000\u001b[39m)\n\u001b[1;32m      3\u001b[0m \u001b[39mfor\u001b[39;00m u \u001b[39min\u001b[39;00m flow\u001b[39m.\u001b[39mvalues():\n\u001b[1;32m      4\u001b[0m     \u001b[39mfor\u001b[39;00m v, w \u001b[39min\u001b[39;00m u\u001b[39m.\u001b[39mitems():\n",
      "\u001b[0;31mNameError\u001b[0m: name 'g1' is not defined"
     ]
    }
   ],
   "source": [
    "#G1, G2 = g1.toNX(), g2.toNX()\n",
    "cost, flow, D = GGMD(g1, g2, 2, 1.5, 1000)\n",
    "for u in flow.values():\n",
    "    for v, w in u.items():\n",
    "        u[v] = { 'weight': w } \n",
    "F = nx.DiGraph(flow)\n",
    "F.remove_node(\"eps1\")\n",
    "F.remove_node(\"eps2\")\n",
    "F.remove_edges_from([(n1, n2) for n1, n2, w in F.edges(data=\"weight\") if w == 0])"
   ]
  },
  {
   "cell_type": "code",
   "execution_count": null,
   "metadata": {},
   "outputs": [],
   "source": [
    "c, f = ggd(g2, g1, 2, 1)\n",
    "H = nx.DiGraph(f)"
   ]
  },
  {
   "cell_type": "code",
   "execution_count": null,
   "metadata": {},
   "outputs": [
    {
     "data": {
      "text/plain": [
       "(13.87, 10.15809545845882)"
      ]
     },
     "execution_count": 5,
     "metadata": {},
     "output_type": "execute_result"
    }
   ],
   "source": [
    "cost, c"
   ]
  },
  {
   "cell_type": "code",
   "execution_count": null,
   "metadata": {},
   "outputs": [],
   "source": [
    "pos1 = nx.get_node_attributes(G1,  'coords')\n",
    "pos2 = nx.get_node_attributes(G2,  'coords')\n",
    "\n",
    "#pos1 = { u.label: u.coords for u in g1.vertices }\n",
    "#pos2 = { u.label: u.coords for u in g2.vertices }\n",
    "\n",
    "for k in pos2.keys():\n",
    "        pos2[k] = np.add( pos2[k], (0,0))\n",
    "pos = pos1 | pos2\n",
    "#pos = {\"eps1\": (0, 3), \"eps2\": (0, -3)}"
   ]
  },
  {
   "cell_type": "code",
   "execution_count": null,
   "metadata": {},
   "outputs": [
    {
     "data": {
      "image/png": "[encoded data removed]",
      "text/plain": [
       "<Figure size 400x400 with 1 Axes>"
      ]
     },
     "metadata": {},
     "output_type": "display_data"
    }
   ],
   "source": [
    "fig = plt.figure(figsize=(4, 4))\n",
    "nx.draw(G1, pos1, edge_color = \"red\", node_color = \"red\", node_size = 20, with_labels = False)\n",
    "nx.draw(G2, pos2, edge_color = \"blue\", node_color = \"blue\", node_size = 20, with_labels = True)\n",
    "#nx.draw(F, pos, edge_color = \"gray\", width = 2, style = '--', node_size = 0, alpha = 0.5, connectionstyle=\"arc3, rad=0.2\", arrowsize = 17)\n",
    "\n",
    "#nx.draw(H, pos, edge_color = \"green\", width = 0.5, style = '--', node_size = 0, alpha = 0.5, connectionstyle=\"arc3, rad=0.2\", arrowsize = 17)\n",
    "# \n",
    "# weights = nx.get_edge_attributes(F, 'weight').values()\n",
    "# nx.draw(F, pos, **options, width=list(weights))"
   ]
  },
  {
   "cell_type": "code",
   "execution_count": null,
   "metadata": {},
   "outputs": [],
   "source": [
    "p1 = Point((0,0), 'u_0')\n",
    "p2 = Point((1,0), 'u_1')\n",
    "p3 = Point((3,0), 'u_2')\n",
    "\n",
    "q1 = Point((0,0), 'v_0')\n",
    "q2 = Point((1,0), 'v_1')\n",
    "q3 = Point((3,0), 'v_2')\n"
   ]
  },
  {
   "cell_type": "code",
   "execution_count": null,
   "metadata": {},
   "outputs": [],
   "source": [
    "g1 = Graph([p1, p2, p3], [[p1, p2]])"
   ]
  },
  {
   "cell_type": "code",
   "execution_count": null,
   "metadata": {},
   "outputs": [],
   "source": [
    "g2 = Graph([q1, q2, q3], [[q1, q2], [q2, q3]])"
   ]
  },
  {
   "cell_type": "code",
   "execution_count": null,
   "metadata": {},
   "outputs": [
    {
     "data": {
      "text/plain": [
       "(2.0, [('u_0', 'v_0'), ('u_1', 'v_1')])"
      ]
     },
     "execution_count": 11,
     "metadata": {},
     "output_type": "execute_result"
    }
   ],
   "source": [
    "ggd(g1, g2, 1, 1)"
   ]
  },
  {
   "cell_type": "code",
   "execution_count": null,
   "metadata": {},
   "outputs": [],
   "source": [
    "c = GGMD(g1, g2, 1, 1, 1000)"
   ]
  },
  {
   "cell_type": "code",
   "execution_count": null,
   "metadata": {},
   "outputs": [
    {
     "data": {
      "text/plain": [
       "{'u_0': {'v_0': {'weight': 5112},\n",
       "  'v_1': {'weight': 4029},\n",
       "  'v_2': {'weight': 2732},\n",
       "  'v_3': {'weight': 4310},\n",
       "  'v_4': {'weight': 4943},\n",
       "  'v_5': {'weight': 4679},\n",
       "  'v_6': {'weight': 4695},\n",
       "  'v_7': {'weight': 4369},\n",
       "  'v_8': {'weight': 4472},\n",
       "  'v_9': {'weight': 4623},\n",
       "  'eps2': {'weight': 823}},\n",
       " 'u_1': {'v_0': {'weight': 1778},\n",
       "  'v_1': {'weight': 5647},\n",
       "  'v_2': {'weight': 4226},\n",
       "  'v_3': {'weight': 3852},\n",
       "  'v_4': {'weight': 4590},\n",
       "  'v_5': {'weight': 4749},\n",
       "  'v_6': {'weight': 4385},\n",
       "  'v_7': {'weight': 5217},\n",
       "  'v_8': {'weight': 4770},\n",
       "  'v_9': {'weight': 3593},\n",
       "  'eps2': {'weight': 1671}},\n",
       " 'u_2': {'v_0': {'weight': 4792},\n",
       "  'v_1': {'weight': 943},\n",
       "  'v_2': {'weight': 4177},\n",
       "  'v_3': {'weight': 2736},\n",
       "  'v_4': {'weight': 6622},\n",
       "  'v_5': {'weight': 2085},\n",
       "  'v_6': {'weight': 3667},\n",
       "  'v_7': {'weight': 4451},\n",
       "  'v_8': {'weight': 2850},\n",
       "  'v_9': {'weight': 3569},\n",
       "  'eps2': {'weight': 716}},\n",
       " 'u_3': {'v_0': {'weight': 4394},\n",
       "  'v_1': {'weight': 5171},\n",
       "  'v_2': {'weight': 2839},\n",
       "  'v_3': {'weight': 4211},\n",
       "  'v_4': {'weight': 5118},\n",
       "  'v_5': {'weight': 5014},\n",
       "  'v_6': {'weight': 3285},\n",
       "  'v_7': {'weight': 2567},\n",
       "  'v_8': {'weight': 3614},\n",
       "  'v_9': {'weight': 2832},\n",
       "  'eps2': {'weight': 2299}},\n",
       " 'u_4': {'v_0': {'weight': 4389},\n",
       "  'v_1': {'weight': 3932},\n",
       "  'v_2': {'weight': 4494},\n",
       "  'v_3': {'weight': 2462},\n",
       "  'v_4': {'weight': 6523},\n",
       "  'v_5': {'weight': 3231},\n",
       "  'v_6': {'weight': 3052},\n",
       "  'v_7': {'weight': 2130},\n",
       "  'v_8': {'weight': 2010},\n",
       "  'v_9': {'weight': 4466},\n",
       "  'eps2': {'weight': 2223}},\n",
       " 'eps1': {'v_0': {'weight': 742},\n",
       "  'v_1': {'weight': 1368},\n",
       "  'v_2': {'weight': 747},\n",
       "  'v_3': {'weight': 111},\n",
       "  'v_4': {'weight': 1168},\n",
       "  'v_5': {'weight': 329},\n",
       "  'v_6': {'weight': 1515},\n",
       "  'v_7': {'weight': 1837},\n",
       "  'v_8': {'weight': 1494},\n",
       "  'v_9': {'weight': 2093},\n",
       "  'eps2': {'weight': 0}},\n",
       " 'v_0': {},\n",
       " 'v_1': {},\n",
       " 'v_2': {},\n",
       " 'v_3': {},\n",
       " 'v_4': {},\n",
       " 'v_5': {},\n",
       " 'v_6': {},\n",
       " 'v_7': {},\n",
       " 'v_8': {},\n",
       " 'v_9': {},\n",
       " 'eps2': {}}"
      ]
     },
     "execution_count": 13,
     "metadata": {},
     "output_type": "execute_result"
    }
   ],
   "source": [
    "nx.to_dict_of_dicts(D)"
   ]
  },
  {
   "cell_type": "code",
   "execution_count": null,
   "metadata": {},
   "outputs": [
    {
     "data": {
      "text/plain": [
       "(2.0,\n",
       " {'u_0': {'v_0': 1000, 'v_1': 0, 'v_2': 0, 'eps2': 0},\n",
       "  'u_1': {'v_0': 0, 'v_1': 1000, 'v_2': 0, 'eps2': 0},\n",
       "  'u_2': {'v_0': 0, 'v_1': 0, 'v_2': 1000, 'eps2': 0},\n",
       "  'eps1': {'v_0': 0, 'v_1': 0, 'v_2': 0, 'eps2': 3000},\n",
       "  'v_0': {},\n",
       "  'v_1': {},\n",
       "  'v_2': {},\n",
       "  'eps2': {}},\n",
       " <networkx.classes.digraph.DiGraph at 0x7fa58fc9a020>)"
      ]
     },
     "execution_count": 14,
     "metadata": {},
     "output_type": "execute_result"
    }
   ],
   "source": [
    "c"
   ]
  }
 ],
 "metadata": {
  "kernelspec": {
   "display_name": ".venv",
   "language": "python",
   "name": "python3"
  },
  "language_info": {
   "codemirror_mode": {
    "name": "ipython",
    "version": 3
   },
   "file_extension": ".py",
   "mimetype": "text/x-python",
   "name": "python",
   "nbconvert_exporter": "python",
   "pygments_lexer": "ipython3",
   "version": "3.10.6"
  },
  "orig_nbformat": 4,
  "vscode": {
   "interpreter": {
    "hash": "7046c1012c32b6598d3de8fc9837e48958eb0ce04934b61994dab98503ac34ef"
   }
  }
 },
 "nbformat": 4,
 "nbformat_minor": 2
}
