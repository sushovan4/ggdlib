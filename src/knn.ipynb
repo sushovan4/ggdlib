{
 "cells": [
  {
   "cell_type": "code",
   "execution_count": 131,
   "metadata": {},
   "outputs": [],
   "source": [
    "import json\n",
    "file = open('../nn_output.json')\n",
    "result = json.load(file)"
   ]
  },
  {
   "cell_type": "code",
   "execution_count": 135,
   "metadata": {},
   "outputs": [],
   "source": [
    "k = 10"
   ]
  },
  {
   "cell_type": "code",
   "execution_count": 136,
   "metadata": {},
   "outputs": [
    {
     "name": "stdout",
     "output_type": "stream",
     "text": [
      "AP1_0042.gxl A ['A', 'L', 'L', 'A', 'I', 'I', 'I', 'I', 'I', 'I']\n",
      "EP1_0008.gxl E ['E', 'E', 'E', 'L', 'L', 'L', 'L', 'L', 'L', 'L']\n",
      "EP1_0012.gxl E ['E', 'F', 'E', 'F', 'F', 'F', 'F', 'F', 'F', 'F']\n"
     ]
    },
    {
     "data": {
      "text/plain": [
       "95.38461538461539"
      ]
     },
     "execution_count": 136,
     "metadata": {},
     "output_type": "execute_result"
    }
   ],
   "source": [
    "n = 0\n",
    "success = 0\n",
    "for file in result:\n",
    "    if \"_classes\" not in file.keys():\n",
    "        continue\n",
    "\n",
    "    n += 1\n",
    "    classes = file[\"_classes\"][0:k]\n",
    "    if file[\"_class\"] == max( classes, key = classes.count ):\n",
    "        success += 1\n",
    "    else:\n",
    "        print(file[\"_file\"], file[\"_class\"], classes)\n",
    "\n",
    "success / n * 100\n"
   ]
  },
  {
   "cell_type": "code",
   "execution_count": 137,
   "metadata": {},
   "outputs": [
    {
     "data": {
      "text/plain": [
       "65"
      ]
     },
     "execution_count": 137,
     "metadata": {},
     "output_type": "execute_result"
    }
   ],
   "source": [
    "n"
   ]
  },
  {
   "cell_type": "code",
   "execution_count": null,
   "metadata": {},
   "outputs": [],
   "source": []
  }
 ],
 "metadata": {
  "kernelspec": {
   "display_name": ".venv",
   "language": "python",
   "name": "python3"
  },
  "language_info": {
   "codemirror_mode": {
    "name": "ipython",
    "version": 3
   },
   "file_extension": ".py",
   "mimetype": "text/x-python",
   "name": "python",
   "nbconvert_exporter": "python",
   "pygments_lexer": "ipython3",
   "version": "3.10.6"
  },
  "orig_nbformat": 4
 },
 "nbformat": 4,
 "nbformat_minor": 2
}
