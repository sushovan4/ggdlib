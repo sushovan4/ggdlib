{
 "cells": [
  {
   "cell_type": "code",
   "execution_count": 41,
   "metadata": {},
   "outputs": [],
   "source": [
    "import json\n",
    "file = open('nn_output.json')\n",
    "result = json.load(file)"
   ]
  },
  {
   "cell_type": "code",
   "execution_count": 42,
   "metadata": {},
   "outputs": [],
   "source": [
    "k = 25"
   ]
  },
  {
   "cell_type": "code",
   "execution_count": 43,
   "metadata": {},
   "outputs": [
    {
     "name": "stdout",
     "output_type": "stream",
     "text": [
      "AP1_0038.gxl A ['A', 'L', 'Z', 'T', 'N', 'A', 'A', 'Y', 'L', 'I', 'A', 'A', 'A', 'I', 'I', 'I', 'I', 'I', 'A', 'A', 'I', 'I', 'I', 'I', 'I']\n",
      "AP1_0042.gxl A ['A', 'L', 'L', 'I', 'L', 'I', 'A', 'I', 'I', 'L', 'I', 'I', 'I', 'I', 'I', 'I', 'L', 'I', 'L', 'I', 'I', 'I', 'A', 'L', 'I']\n",
      "EP1_0001.gxl E ['E', 'E', 'E', 'F', 'L', 'L', 'L', 'L', 'L', 'L', 'L', 'E', 'E', 'L', 'L', 'L', 'L', 'Z', 'L', 'L', 'L', 'L', 'L', 'L', 'L']\n"
     ]
    },
    {
     "data": {
      "text/plain": [
       "94.23076923076923"
      ]
     },
     "execution_count": 43,
     "metadata": {},
     "output_type": "execute_result"
    }
   ],
   "source": [
    "n = 0\n",
    "success = 0\n",
    "for file in result:\n",
    "    if \"_classes\" not in file.keys():\n",
    "        continue\n",
    "\n",
    "    n += 1\n",
    "    classes = file[\"_classes\"][0:k]\n",
    "    if file[\"_class\"] == max( classes, key = classes.count ):\n",
    "        success += 1\n",
    "    else:\n",
    "        print(file[\"_file\"], file[\"_class\"], classes)\n",
    "\n",
    "\n",
    "success / n * 100\n"
   ]
  },
  {
   "cell_type": "code",
   "execution_count": 44,
   "metadata": {},
   "outputs": [
    {
     "data": {
      "text/plain": [
       "52"
      ]
     },
     "execution_count": 44,
     "metadata": {},
     "output_type": "execute_result"
    }
   ],
   "source": [
    "n"
   ]
  }
 ],
 "metadata": {
  "kernelspec": {
   "display_name": ".venv",
   "language": "python",
   "name": "python3"
  },
  "language_info": {
   "codemirror_mode": {
    "name": "ipython",
    "version": 3
   },
   "file_extension": ".py",
   "mimetype": "text/x-python",
   "name": "python",
   "nbconvert_exporter": "python",
   "pygments_lexer": "ipython3",
   "version": "3.10.6"
  },
  "orig_nbformat": 4
 },
 "nbformat": 4,
 "nbformat_minor": 2
}
